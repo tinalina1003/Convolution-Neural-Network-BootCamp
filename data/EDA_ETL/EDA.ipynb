{
 "cells": [
  {
   "cell_type": "code",
   "execution_count": 1,
   "metadata": {},
   "outputs": [
    {
     "data": {
      "text/html": [
       "<div>\n",
       "<style scoped>\n",
       "    .dataframe tbody tr th:only-of-type {\n",
       "        vertical-align: middle;\n",
       "    }\n",
       "\n",
       "    .dataframe tbody tr th {\n",
       "        vertical-align: top;\n",
       "    }\n",
       "\n",
       "    .dataframe thead th {\n",
       "        text-align: right;\n",
       "    }\n",
       "</style>\n",
       "<table border=\"1\" class=\"dataframe\">\n",
       "  <thead>\n",
       "    <tr style=\"text-align: right;\">\n",
       "      <th></th>\n",
       "      <th>Brand</th>\n",
       "      <th>Category</th>\n",
       "      <th>Color</th>\n",
       "      <th>Size</th>\n",
       "      <th>Material</th>\n",
       "      <th>Price</th>\n",
       "    </tr>\n",
       "  </thead>\n",
       "  <tbody>\n",
       "    <tr>\n",
       "      <th>0</th>\n",
       "      <td>New Balance</td>\n",
       "      <td>Dress</td>\n",
       "      <td>White</td>\n",
       "      <td>XS</td>\n",
       "      <td>Nylon</td>\n",
       "      <td>182</td>\n",
       "    </tr>\n",
       "    <tr>\n",
       "      <th>1</th>\n",
       "      <td>New Balance</td>\n",
       "      <td>Jeans</td>\n",
       "      <td>Black</td>\n",
       "      <td>XS</td>\n",
       "      <td>Silk</td>\n",
       "      <td>57</td>\n",
       "    </tr>\n",
       "    <tr>\n",
       "      <th>2</th>\n",
       "      <td>Under Armour</td>\n",
       "      <td>Dress</td>\n",
       "      <td>Red</td>\n",
       "      <td>M</td>\n",
       "      <td>Wool</td>\n",
       "      <td>127</td>\n",
       "    </tr>\n",
       "    <tr>\n",
       "      <th>3</th>\n",
       "      <td>Nike</td>\n",
       "      <td>Shoes</td>\n",
       "      <td>Green</td>\n",
       "      <td>M</td>\n",
       "      <td>Cotton</td>\n",
       "      <td>77</td>\n",
       "    </tr>\n",
       "    <tr>\n",
       "      <th>4</th>\n",
       "      <td>Adidas</td>\n",
       "      <td>Sweater</td>\n",
       "      <td>White</td>\n",
       "      <td>M</td>\n",
       "      <td>Nylon</td>\n",
       "      <td>113</td>\n",
       "    </tr>\n",
       "  </tbody>\n",
       "</table>\n",
       "</div>"
      ],
      "text/plain": [
       "          Brand Category  Color Size Material  Price\n",
       "0   New Balance    Dress  White   XS    Nylon    182\n",
       "1   New Balance    Jeans  Black   XS     Silk     57\n",
       "2  Under Armour    Dress    Red    M     Wool    127\n",
       "3          Nike    Shoes  Green    M   Cotton     77\n",
       "4        Adidas  Sweater  White    M    Nylon    113"
      ]
     },
     "execution_count": 1,
     "metadata": {},
     "output_type": "execute_result"
    }
   ],
   "source": [
    "import pandas as pd\n",
    "import matplotlib.pyplot as plt\n",
    "\n",
    "df = pd.read_csv('clothes_price_prediction_data.csv')  \n",
    "\n",
    "\n",
    "df.head()\n"
   ]
  },
  {
   "cell_type": "code",
   "execution_count": 2,
   "metadata": {},
   "outputs": [
    {
     "data": {
      "text/plain": [
       "Brand       object\n",
       "Category    object\n",
       "Color       object\n",
       "Size        object\n",
       "Material    object\n",
       "Price        int64\n",
       "dtype: object"
      ]
     },
     "execution_count": 2,
     "metadata": {},
     "output_type": "execute_result"
    }
   ],
   "source": [
    "df.dtypes"
   ]
  },
  {
   "cell_type": "code",
   "execution_count": 3,
   "metadata": {},
   "outputs": [
    {
     "data": {
      "text/html": [
       "<div>\n",
       "<style scoped>\n",
       "    .dataframe tbody tr th:only-of-type {\n",
       "        vertical-align: middle;\n",
       "    }\n",
       "\n",
       "    .dataframe tbody tr th {\n",
       "        vertical-align: top;\n",
       "    }\n",
       "\n",
       "    .dataframe thead th {\n",
       "        text-align: right;\n",
       "    }\n",
       "</style>\n",
       "<table border=\"1\" class=\"dataframe\">\n",
       "  <thead>\n",
       "    <tr style=\"text-align: right;\">\n",
       "      <th></th>\n",
       "      <th>Price</th>\n",
       "    </tr>\n",
       "  </thead>\n",
       "  <tbody>\n",
       "    <tr>\n",
       "      <th>count</th>\n",
       "      <td>1000.000000</td>\n",
       "    </tr>\n",
       "    <tr>\n",
       "      <th>mean</th>\n",
       "      <td>106.289000</td>\n",
       "    </tr>\n",
       "    <tr>\n",
       "      <th>std</th>\n",
       "      <td>53.695444</td>\n",
       "    </tr>\n",
       "    <tr>\n",
       "      <th>min</th>\n",
       "      <td>10.000000</td>\n",
       "    </tr>\n",
       "    <tr>\n",
       "      <th>25%</th>\n",
       "      <td>59.750000</td>\n",
       "    </tr>\n",
       "    <tr>\n",
       "      <th>50%</th>\n",
       "      <td>108.000000</td>\n",
       "    </tr>\n",
       "    <tr>\n",
       "      <th>75%</th>\n",
       "      <td>150.000000</td>\n",
       "    </tr>\n",
       "    <tr>\n",
       "      <th>max</th>\n",
       "      <td>199.000000</td>\n",
       "    </tr>\n",
       "  </tbody>\n",
       "</table>\n",
       "</div>"
      ],
      "text/plain": [
       "             Price\n",
       "count  1000.000000\n",
       "mean    106.289000\n",
       "std      53.695444\n",
       "min      10.000000\n",
       "25%      59.750000\n",
       "50%     108.000000\n",
       "75%     150.000000\n",
       "max     199.000000"
      ]
     },
     "execution_count": 3,
     "metadata": {},
     "output_type": "execute_result"
    }
   ],
   "source": [
    "df.describe()"
   ]
  },
  {
   "cell_type": "code",
   "execution_count": 4,
   "metadata": {},
   "outputs": [
    {
     "data": {
      "text/plain": [
       "Brand         Category  Color   Size  Material   Price\n",
       "Adidas        Dress     Black   M     Nylon      114      1\n",
       "Reebok        Dress     Blue    XS    Denim      108      1\n",
       "Puma          T-shirt   White   L     Wool       174      1\n",
       "                                M     Silk       33       1\n",
       "                                S     Silk       114      1\n",
       "                                                         ..\n",
       "Nike          Dress     Green   XL    Nylon      24       1\n",
       "                                XS    Cotton     120      1\n",
       "                                XXL   Nylon      125      1\n",
       "                        Red     XS    Nylon      133      1\n",
       "Under Armour  T-shirt   Yellow  XXL   Polyester  42       1\n",
       "Length: 1000, dtype: int64"
      ]
     },
     "execution_count": 4,
     "metadata": {},
     "output_type": "execute_result"
    }
   ],
   "source": [
    "df.value_counts()"
   ]
  },
  {
   "cell_type": "code",
   "execution_count": 5,
   "metadata": {},
   "outputs": [
    {
     "name": "stdout",
     "output_type": "stream",
     "text": [
      "                Price                      \n",
      "                 mean median min  max count\n",
      "Material                                   \n",
      "Cotton     103.345679  102.0  10  199   162\n",
      "Denim      107.687117  106.0  12  198   163\n",
      "Nylon      109.387097  113.0  10  198   155\n",
      "Polyester  106.434286  109.0  10  199   175\n",
      "Silk       101.913295  105.0  10  198   173\n",
      "Wool       109.197674  112.0  10  198   172\n"
     ]
    }
   ],
   "source": [
    "materials_agg_data = df.groupby('Material').agg({\n",
    "    'Price': ['mean', 'median', 'min', 'max', 'count']\n",
    "})\n",
    "\n",
    "print(materials_agg_data)\n"
   ]
  },
  {
   "cell_type": "code",
   "execution_count": 6,
   "metadata": {},
   "outputs": [
    {
     "name": "stdout",
     "output_type": "stream",
     "text": [
      "           Price                      \n",
      "            mean median min  max count\n",
      "Size                                  \n",
      "L     106.156028  107.0  10  198   141\n",
      "M     105.191083  106.0  10  198   157\n",
      "S     103.903614  101.0  10  198   166\n",
      "XL    102.149701  109.0  12  199   167\n",
      "XS    110.117347  114.0  10  199   196\n",
      "XXL   109.341040  114.0  10  198   173\n"
     ]
    }
   ],
   "source": [
    "size_agg_data = df.groupby('Size').agg({\n",
    "    'Price': ['mean', 'median', 'min', 'max', 'count']\n",
    "})\n",
    "\n",
    "print(size_agg_data)"
   ]
  },
  {
   "cell_type": "code",
   "execution_count": 7,
   "metadata": {},
   "outputs": [
    {
     "name": "stdout",
     "output_type": "stream",
     "text": [
      "                   Price                      \n",
      "                    mean median min  max count\n",
      "Brand                                         \n",
      "Adidas        104.054217  104.0  10  198   166\n",
      "New Balance   115.457317  122.0  14  198   164\n",
      "Nike          101.909091  101.0  11  199   165\n",
      "Puma          106.136905  104.5  10  199   168\n",
      "Reebok        106.493671  107.5  10  198   158\n",
      "Under Armour  103.960894  104.0  10  198   179\n"
     ]
    }
   ],
   "source": [
    "brand_agg_data = df.groupby('Brand').agg({\n",
    "    'Price': ['mean', 'median', 'min', 'max', 'count']\n",
    "})\n",
    "\n",
    "print(brand_agg_data)"
   ]
  },
  {
   "cell_type": "code",
   "execution_count": 8,
   "metadata": {},
   "outputs": [
    {
     "data": {
      "text/plain": [
       "Brand\n",
       "Adidas         104.054217\n",
       "New Balance    115.457317\n",
       "Nike           101.909091\n",
       "Puma           106.136905\n",
       "Reebok         106.493671\n",
       "Name: Price, dtype: float64"
      ]
     },
     "execution_count": 8,
     "metadata": {},
     "output_type": "execute_result"
    }
   ],
   "source": [
    "avg_price_brand = df.groupby('Brand')['Price'].mean()\n",
    "\n",
    "avg_price_brand.head()"
   ]
  },
  {
   "cell_type": "code",
   "execution_count": 9,
   "metadata": {},
   "outputs": [
    {
     "data": {
      "image/png": "[encoded data removed]",
      "text/plain": [
       "<Figure size 640x480 with 1 Axes>"
      ]
     },
     "metadata": {},
     "output_type": "display_data"
    }
   ],
   "source": [
    "avg_price_brand.plot(kind='bar', title='Average Price by Brand')\n",
    "plt.xlabel('Brand')\n",
    "plt.ylabel('Average Price')\n",
    "plt.show()"
   ]
  },
  {
   "cell_type": "code",
   "execution_count": 10,
   "metadata": {},
   "outputs": [
    {
     "data": {
      "text/plain": [
       "Color\n",
       "Black    102.834356\n",
       "Blue     107.061350\n",
       "Green    103.518519\n",
       "Red      106.142857\n",
       "White    113.690058\n",
       "Name: Price, dtype: float64"
      ]
     },
     "execution_count": 10,
     "metadata": {},
     "output_type": "execute_result"
    }
   ],
   "source": [
    "avg_price_color = df.groupby('Color')['Price'].mean()\n",
    "\n",
    "avg_price_color.head()"
   ]
  },
  {
   "cell_type": "code",
   "execution_count": 11,
   "metadata": {},
   "outputs": [
    {
     "data": {
      "image/png": "[encoded data removed]",
      "text/plain": [
       "<Figure size 640x480 with 1 Axes>"
      ]
     },
     "metadata": {},
     "output_type": "display_data"
    }
   ],
   "source": [
    "avg_price_color.plot(kind='pie', autopct='%1.1f%%', title='Total Revenue by Color')\n",
    "plt.ylabel('')\n",
    "plt.show()"
   ]
  },
  {
   "cell_type": "code",
   "execution_count": 13,
   "metadata": {},
   "outputs": [
    {
     "data": {
      "text/plain": [
       "Category\n",
       "Dress      114.506024\n",
       "Jacket     102.827225\n",
       "Jeans      100.748503\n",
       "Shoes      108.569767\n",
       "Sweater    106.781250\n",
       "Name: Price, dtype: float64"
      ]
     },
     "execution_count": 13,
     "metadata": {},
     "output_type": "execute_result"
    }
   ],
   "source": [
    "avg_price_cat = df.groupby('Category')['Price'].mean()\n",
    "\n",
    "avg_price_cat.head()"
   ]
  },
  {
   "cell_type": "code",
   "execution_count": 16,
   "metadata": {},
   "outputs": [
    {
     "data": {
      "image/png": "[encoded data removed]",
      "text/plain": [
       "<Figure size 640x480 with 1 Axes>"
      ]
     },
     "metadata": {},
     "output_type": "display_data"
    }
   ],
   "source": [
    "# Plotting\n",
    "avg_price_cat.plot(kind='bar', title='Average Price by Category')\n",
    "plt.xlabel('Cateogry')\n",
    "plt.ylabel('Average Price')\n",
    "plt.show()"
   ]
  },
  {
   "cell_type": "code",
   "execution_count": 12,
   "metadata": {},
   "outputs": [
    {
     "data": {
      "text/plain": [
       "<bound method NDFrame.head of Brand         Category\n",
       "Adidas        Jeans       39\n",
       "              Dress       30\n",
       "              Jacket      28\n",
       "              Shoes       25\n",
       "              T-shirt     24\n",
       "              Sweater     20\n",
       "New Balance   Jacket      34\n",
       "              Shoes       31\n",
       "              Dress       27\n",
       "              T-shirt     26\n",
       "              Jeans       24\n",
       "              Sweater     22\n",
       "Nike          Shoes       33\n",
       "              Sweater     31\n",
       "              Jacket      30\n",
       "              T-shirt     27\n",
       "              Dress       22\n",
       "              Jeans       22\n",
       "Puma          Shoes       36\n",
       "              Jacket      32\n",
       "              Jeans       28\n",
       "              Sweater     27\n",
       "              T-shirt     24\n",
       "              Dress       21\n",
       "Reebok        Dress       36\n",
       "              Sweater     36\n",
       "              Jeans       24\n",
       "              Jacket      23\n",
       "              T-shirt     20\n",
       "              Shoes       19\n",
       "Under Armour  Jacket      44\n",
       "              Dress       30\n",
       "              Jeans       30\n",
       "              Shoes       28\n",
       "              Sweater     24\n",
       "              T-shirt     23\n",
       "Name: Category, dtype: int64>"
      ]
     },
     "execution_count": 12,
     "metadata": {},
     "output_type": "execute_result"
    }
   ],
   "source": [
    "category_per_brand = df.groupby('Brand')['Category'].value_counts()\n",
    "\n",
    "category_per_brand.head"
   ]
  },
  {
   "cell_type": "code",
   "execution_count": null,
   "metadata": {},
   "outputs": [],
   "source": []
  }
 ],
 "metadata": {
  "kernelspec": {
   "display_name": "dev",
   "language": "python",
   "name": "python3"
  },
  "language_info": {
   "codemirror_mode": {
    "name": "ipython",
    "version": 3
   },
   "file_extension": ".py",
   "mimetype": "text/x-python",
   "name": "python",
   "nbconvert_exporter": "python",
   "pygments_lexer": "ipython3",
   "version": "3.10.12"
  }
 },
 "nbformat": 4,
 "nbformat_minor": 2
}
